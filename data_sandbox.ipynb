{
 "cells": [
  {
   "cell_type": "code",
   "execution_count": 456,
   "metadata": {},
   "outputs": [
    {
     "name": "stdout",
     "output_type": "stream",
     "text": [
      "<class 'pandas.core.frame.DataFrame'>\n",
      "RangeIndex: 45466 entries, 0 to 45465\n",
      "Data columns (total 16 columns):\n",
      " #   Column                 Non-Null Count  Dtype  \n",
      "---  ------                 --------------  -----  \n",
      " 0   adult                  45466 non-null  object \n",
      " 1   belongs_to_collection  4494 non-null   object \n",
      " 2   budget                 45466 non-null  object \n",
      " 3   genres                 45466 non-null  object \n",
      " 4   original_language      45455 non-null  object \n",
      " 5   popularity             45461 non-null  object \n",
      " 6   production_companies   45463 non-null  object \n",
      " 7   production_countries   45463 non-null  object \n",
      " 8   release_date           45379 non-null  object \n",
      " 9   revenue                45460 non-null  float64\n",
      " 10  runtime                45203 non-null  float64\n",
      " 11  status                 45379 non-null  object \n",
      " 12  title                  45460 non-null  object \n",
      " 13  video                  45460 non-null  object \n",
      " 14  vote_average           45460 non-null  float64\n",
      " 15  vote_count             45460 non-null  float64\n",
      "dtypes: float64(4), object(12)\n",
      "memory usage: 5.6+ MB\n"
     ]
    }
   ],
   "source": [
    "import pandas as pd\n",
    "import matplotlib.pyplot as plt\n",
    "import numpy as np\n",
    "include_columns = [0, 1, 2, 3, 7, 10, 12, 13, 14, 15, 16, 18, 20, 21, 22, 23] \n",
    "movies = pd.read_csv('Datafiles\\\\movies_metadata.csv', sep = ',', low_memory=False, \\\n",
    "        usecols = include_columns)\n",
    "movies.info()"
   ]
  },
  {
   "cell_type": "markdown",
   "metadata": {},
   "source": [
    "1. Data filtering"
   ]
  },
  {
   "cell_type": "code",
   "execution_count": 457,
   "metadata": {},
   "outputs": [],
   "source": [
    "f_movies = movies[movies['adult'] == 'False']\n",
    "f_movies = f_movies[f_movies['status'] == 'Released']\n",
    "f_movies = f_movies[f_movies['video'] == False]"
   ]
  },
  {
   "cell_type": "code",
   "execution_count": 458,
   "metadata": {},
   "outputs": [],
   "source": [
    "f_movies = f_movies.drop(['adult', 'status', 'video'], axis=1)"
   ]
  },
  {
   "cell_type": "markdown",
   "metadata": {},
   "source": [
    "2. Data wrangling\n",
    "BELONGS TO COLLECTION"
   ]
  },
  {
   "cell_type": "code",
   "execution_count": 459,
   "metadata": {},
   "outputs": [],
   "source": [
    "f_movies.loc[f_movies['belongs_to_collection'].notna(), 'belongs_to_collection'] = 1\n",
    "f_movies.loc[f_movies['belongs_to_collection'].isna(), 'belongs_to_collection'] = 0\n"
   ]
  },
  {
   "cell_type": "code",
   "execution_count": 460,
   "metadata": {},
   "outputs": [
    {
     "data": {
      "text/plain": [
       "0    40451\n",
       "1     4462\n",
       "Name: belongs_to_collection, dtype: int64"
      ]
     },
     "execution_count": 460,
     "metadata": {},
     "output_type": "execute_result"
    }
   ],
   "source": [
    "f_movies['belongs_to_collection'] = f_movies['belongs_to_collection'].astype(int)\n",
    "f_movies['belongs_to_collection'].value_counts()\n",
    "#f_movies['belongs_to_collection'].dtype\n"
   ]
  },
  {
   "cell_type": "code",
   "execution_count": 461,
   "metadata": {},
   "outputs": [
    {
     "data": {
      "text/plain": [
       "(array([7.348e+03, 9.280e+02, 2.980e+02, 1.630e+02, 6.400e+01, 3.500e+01,\n",
       "        1.900e+01, 3.000e+00, 0.000e+00, 1.000e+00]),\n",
       " array([1.00000000e+00, 3.80000009e+07, 7.60000008e+07, 1.14000001e+08,\n",
       "        1.52000001e+08, 1.90000000e+08, 2.28000000e+08, 2.66000000e+08,\n",
       "        3.04000000e+08, 3.42000000e+08, 3.80000000e+08]),\n",
       " <BarContainer object of 10 artists>)"
      ]
     },
     "execution_count": 461,
     "metadata": {},
     "output_type": "execute_result"
    },
    {
     "data": {
      "image/png": "[encoded data removed]",
      "text/plain": [
       "<Figure size 432x288 with 1 Axes>"
      ]
     },
     "metadata": {
      "needs_background": "light"
     },
     "output_type": "display_data"
    }
   ],
   "source": [
    "f_movies['budget'] = f_movies['budget'].astype(int)\n",
    "f_movies['budget'].value_counts()\n",
    "#plt.hist(f_movies['budget'])\n",
    "budget_nonzero = f_movies[f_movies['budget'] != 0]['budget']\n",
    "plt.hist(budget_nonzero)"
   ]
  },
  {
   "cell_type": "code",
   "execution_count": 462,
   "metadata": {},
   "outputs": [
    {
     "data": {
      "text/plain": [
       "{'whiskers': [<matplotlib.lines.Line2D at 0x196e3f61e50>,\n",
       "  <matplotlib.lines.Line2D at 0x196eb7a6220>],\n",
       " 'caps': [<matplotlib.lines.Line2D at 0x196eb7a65b0>,\n",
       "  <matplotlib.lines.Line2D at 0x196eb7a6940>],\n",
       " 'boxes': [<matplotlib.lines.Line2D at 0x196e3f61ac0>],\n",
       " 'medians': [<matplotlib.lines.Line2D at 0x196eb7a6cd0>],\n",
       " 'fliers': [<matplotlib.lines.Line2D at 0x196eb7b10a0>],\n",
       " 'means': []}"
      ]
     },
     "execution_count": 462,
     "metadata": {},
     "output_type": "execute_result"
    },
    {
     "data": {
      "image/png": "[encoded data removed]",
      "text/plain": [
       "<Figure size 432x288 with 1 Axes>"
      ]
     },
     "metadata": {
      "needs_background": "light"
     },
     "output_type": "display_data"
    }
   ],
   "source": [
    "plt.boxplot(budget_nonzero)\n",
    "#budget_nonzero"
   ]
  },
  {
   "cell_type": "code",
   "execution_count": 463,
   "metadata": {},
   "outputs": [
    {
     "data": {
      "text/plain": [
       "en                31869\n",
       "fr                 2417\n",
       "it                 1509\n",
       "ja                 1340\n",
       "other_language     1097\n",
       "de                 1073\n",
       "es                  982\n",
       "ru                  818\n",
       "hi                  501\n",
       "ko                  441\n",
       "zh                  406\n",
       "sv                  383\n",
       "pt                  314\n",
       "cn                  308\n",
       "fi                  289\n",
       "nl                  244\n",
       "da                  223\n",
       "pl                  213\n",
       "tr                  141\n",
       "cs                  128\n",
       "el                  111\n",
       "no                  106\n",
       "Name: original_language, dtype: int64"
      ]
     },
     "execution_count": 463,
     "metadata": {},
     "output_type": "execute_result"
    }
   ],
   "source": [
    "f_movies['original_language'] = f_movies['original_language'].astype(str)\n",
    "lang = f_movies['original_language'].value_counts()\n",
    "lang_other = lang[lang <= 100]\n",
    "f_movies.loc[f_movies['original_language'].isin(lang_other.index.to_list()), 'original_language'] = 'other_language'\n",
    "f_movies['original_language'].value_counts()\n"
   ]
  },
  {
   "cell_type": "code",
   "execution_count": 464,
   "metadata": {},
   "outputs": [
    {
     "data": {
      "text/plain": [
       "count    44913.000000\n",
       "mean         0.537663\n",
       "std          1.101190\n",
       "min          0.000000\n",
       "25%          0.071748\n",
       "50%          0.207965\n",
       "75%          0.683359\n",
       "max        100.000000\n",
       "Name: popularity, dtype: float64"
      ]
     },
     "execution_count": 464,
     "metadata": {},
     "output_type": "execute_result"
    }
   ],
   "source": [
    "f_movies['popularity'] = f_movies['popularity'].astype(float)\n",
    "#plt.hist(f_movies['popularity'])\n",
    "#f_movies['popularity'].describe()\n",
    "#f_movies['popularity'].sort_values(ascending=False).head(20)\n",
    "f_movies[f_movies['popularity'] > 200].sort_values(by='popularity', ascending = False)\n",
    "pop = f_movies['popularity']\n",
    "\n",
    "\n",
    "def normalizer(vect, a, b):\n",
    "    min_vect = min(vect)\n",
    "    max_vect = max(vect)\n",
    "    result = ((b - a)*(vect - min_vect)/(max_vect-min_vect)) + a\n",
    "    return result\n",
    "\n",
    "pop_stand = normalizer(pop, 0, 100)\n",
    "pop_stand.describe()\n",
    "#plt.hist(pop_stand)"
   ]
  },
  {
   "cell_type": "markdown",
   "metadata": {},
   "source": [
    "RELEASE DATE"
   ]
  },
  {
   "cell_type": "code",
   "execution_count": 465,
   "metadata": {},
   "outputs": [
    {
     "data": {
      "text/plain": [
       "(array([6.0000e+00, 1.0000e+02, 1.7900e+02, 6.6300e+02, 2.0060e+03,\n",
       "        2.6860e+03, 4.4010e+03, 5.1130e+03, 8.5430e+03, 2.1142e+04]),\n",
       " array([1874. , 1888.3, 1902.6, 1916.9, 1931.2, 1945.5, 1959.8, 1974.1,\n",
       "        1988.4, 2002.7, 2017. ]),\n",
       " <BarContainer object of 10 artists>)"
      ]
     },
     "execution_count": 465,
     "metadata": {},
     "output_type": "execute_result"
    },
    {
     "data": {
      "image/png": "[encoded data removed]",
      "text/plain": [
       "<Figure size 432x288 with 1 Axes>"
      ]
     },
     "metadata": {
      "needs_background": "light"
     },
     "output_type": "display_data"
    }
   ],
   "source": [
    "f_movies['release_date'] = f_movies['release_date'].astype(str)\n",
    "f_movies.loc[f_movies['release_date'] == 'nan', 'release_date'] = '0000'\n",
    "f_movies['release_date'] = f_movies['release_date'].str[:4]\n",
    "\n",
    "f_movies['release_date'] = pd.to_numeric(f_movies['release_date'])\n",
    "\n",
    "plt.hist(f_movies[f_movies['release_date'] != 0]['release_date'])\n"
   ]
  },
  {
   "cell_type": "markdown",
   "metadata": {},
   "source": [
    "REVENUE"
   ]
  },
  {
   "cell_type": "code",
   "execution_count": 466,
   "metadata": {},
   "outputs": [
    {
     "data": {
      "text/plain": [
       "(array([6.953e+03, 2.990e+02, 8.700e+01, 4.000e+01, 9.000e+00, 4.000e+00,\n",
       "        1.000e+00, 1.000e+00, 0.000e+00, 1.000e+00]),\n",
       " array([1.00000000e+00, 2.78796510e+08, 5.57593018e+08, 8.36389527e+08,\n",
       "        1.11518604e+09, 1.39398254e+09, 1.67277905e+09, 1.95157556e+09,\n",
       "        2.23037207e+09, 2.50916858e+09, 2.78796509e+09]),\n",
       " <BarContainer object of 10 artists>)"
      ]
     },
     "execution_count": 466,
     "metadata": {},
     "output_type": "execute_result"
    },
    {
     "data": {
      "image/png": "[encoded data removed]",
      "text/plain": [
       "<Figure size 432x288 with 1 Axes>"
      ]
     },
     "metadata": {
      "needs_background": "light"
     },
     "output_type": "display_data"
    }
   ],
   "source": [
    "f_movies['revenue'].value_counts()\n",
    "plt.hist(f_movies[f_movies['revenue'] != 0]['revenue'])"
   ]
  },
  {
   "cell_type": "code",
   "execution_count": 467,
   "metadata": {},
   "outputs": [
    {
     "data": {
      "text/plain": [
       "{'whiskers': [<matplotlib.lines.Line2D at 0x196ea51da90>,\n",
       "  <matplotlib.lines.Line2D at 0x196ea51dd00>],\n",
       " 'caps': [<matplotlib.lines.Line2D at 0x196ea4f30d0>,\n",
       "  <matplotlib.lines.Line2D at 0x196ea4f3460>],\n",
       " 'boxes': [<matplotlib.lines.Line2D at 0x196ea51d700>],\n",
       " 'medians': [<matplotlib.lines.Line2D at 0x196ea4f37f0>],\n",
       " 'fliers': [<matplotlib.lines.Line2D at 0x196ea4f3b80>],\n",
       " 'means': []}"
      ]
     },
     "execution_count": 467,
     "metadata": {},
     "output_type": "execute_result"
    },
    {
     "data": {
      "image/png": "[encoded data removed]",
      "text/plain": [
       "<Figure size 432x288 with 1 Axes>"
      ]
     },
     "metadata": {
      "needs_background": "light"
     },
     "output_type": "display_data"
    }
   ],
   "source": [
    "plt.boxplot(f_movies[f_movies['revenue'] != 0]['revenue'])"
   ]
  },
  {
   "cell_type": "markdown",
   "metadata": {},
   "source": [
    "RUNTIME"
   ]
  },
  {
   "cell_type": "code",
   "execution_count": 468,
   "metadata": {},
   "outputs": [
    {
     "data": {
      "text/plain": [
       "24178    1256.0\n",
       "40938    1140.0\n",
       "19965    1140.0\n",
       "13767     931.0\n",
       "13953     925.0\n",
       "          ...  \n",
       "44763     240.0\n",
       "21184     240.0\n",
       "18903     240.0\n",
       "44995     240.0\n",
       "20783     240.0\n",
       "Name: runtime, Length: 200, dtype: float64"
      ]
     },
     "execution_count": 468,
     "metadata": {},
     "output_type": "execute_result"
    }
   ],
   "source": [
    "f_movies['runtime'].value_counts()\n",
    "f_movies['runtime'].describe()\n",
    "\n",
    "#plt.hist(f_movies[f_movies['runtime'] != 0]['runtime'])\n",
    "f_movies['runtime'].sort_values(ascending=False).head(200)\n"
   ]
  },
  {
   "cell_type": "code",
   "execution_count": 469,
   "metadata": {},
   "outputs": [
    {
     "data": {
      "text/plain": [
       "0.0    2913\n",
       "6.0    2432\n",
       "5.0    1980\n",
       "7.0    1863\n",
       "6.5    1707\n",
       "       ... \n",
       "9.4       3\n",
       "1.1       1\n",
       "9.8       1\n",
       "0.7       1\n",
       "9.6       1\n",
       "Name: vote_average, Length: 92, dtype: int64"
      ]
     },
     "execution_count": 469,
     "metadata": {},
     "output_type": "execute_result"
    }
   ],
   "source": [
    "f_movies['vote_count'].value_counts()\n",
    "f_movies['vote_average'].value_counts()"
   ]
  },
  {
   "cell_type": "code",
   "execution_count": 470,
   "metadata": {},
   "outputs": [],
   "source": [
    "\n",
    "import json\n",
    "\"\"\"\n",
    "converts from string to dictionary and extracts values from particulary key\n",
    "\"\"\"\n",
    "final_list = []\n",
    "idx = 0\n",
    "for row in f_movies['genres']:\n",
    "    if row == '[]':\n",
    "        final_list.append(['unknown_genre'])\n",
    "    else:\n",
    "        final_values = []\n",
    "        row = row.strip('[]').replace(\"'\", \"\\\"\")\n",
    "        for i in range(len(row)):\n",
    "            if row[i] == ',':\n",
    "                if row[i-1] != '}':\n",
    "                    pass\n",
    "                else:\n",
    "                    row = row[:i] + '@' + row[i + 1:]\n",
    "        row = row.replace(\" \", \"\").split('@')\n",
    "        # print(idx)\n",
    "        # print(row)\n",
    "        idx += 1\n",
    "        for item in row: #for each dictionary in a row\n",
    "            tmp = json.loads(item) #load that dict\n",
    "            final_values.append(tmp['name']) #extract value\n",
    "        final_list.append(final_values)\n",
    "f_movies['genres'] = final_list"
   ]
  },
  {
   "cell_type": "code",
   "execution_count": 471,
   "metadata": {},
   "outputs": [
    {
     "data": {
      "text/plain": [
       "array(['Action', 'Adventure', 'Animation', 'Comedy', 'Crime',\n",
       "       'Documentary', 'Drama', 'Family', 'Fantasy', 'Foreign', 'History',\n",
       "       'Horror', 'Music', 'Mystery', 'Romance', 'ScienceFiction',\n",
       "       'TVMovie', 'Thriller', 'War', 'Western', 'unknown_genre'],\n",
       "      dtype='<U14')"
      ]
     },
     "execution_count": 471,
     "metadata": {},
     "output_type": "execute_result"
    }
   ],
   "source": [
    "import itertools\n",
    "np.unique([*itertools.chain.from_iterable(f_movies.genres)])\n",
    "# f_movies.shape"
   ]
  },
  {
   "cell_type": "code",
   "execution_count": 472,
   "metadata": {},
   "outputs": [],
   "source": [
    "s = f_movies['genres'].explode()\n",
    "f_movies = f_movies.drop('genres', axis = 1).join(pd.crosstab(s.index, s))\n"
   ]
  },
  {
   "cell_type": "code",
   "execution_count": 473,
   "metadata": {},
   "outputs": [
    {
     "data": {
      "text/plain": [
       "2014    1953\n",
       "2013    1880\n",
       "2015    1869\n",
       "2012    1707\n",
       "2011    1642\n",
       "        ... \n",
       "1878       1\n",
       "1893       1\n",
       "1883       1\n",
       "1887       1\n",
       "1874       1\n",
       "Name: release_date, Length: 134, dtype: int64"
      ]
     },
     "execution_count": 473,
     "metadata": {},
     "output_type": "execute_result"
    }
   ],
   "source": [
    "f_movies['release_date'].value_counts()\n",
    "#f_movies[f_movies['release_date'] == 0]"
   ]
  },
  {
   "cell_type": "code",
   "execution_count": 474,
   "metadata": {},
   "outputs": [
    {
     "data": {
      "text/plain": [
       "(42061, 33)"
      ]
     },
     "execution_count": 474,
     "metadata": {},
     "output_type": "execute_result"
    }
   ],
   "source": [
    "f_movies = f_movies[f_movies['vote_count'] != 0]\n",
    "f_movies = f_movies[f_movies['release_date'] != 0]\n",
    "f_movies.shape"
   ]
  },
  {
   "cell_type": "markdown",
   "metadata": {},
   "source": [
    "### Language - one hot encoding"
   ]
  },
  {
   "cell_type": "code",
   "execution_count": 475,
   "metadata": {},
   "outputs": [],
   "source": [
    "s = f_movies['original_language'].explode()\n",
    "f_movies = f_movies.drop('original_language', axis = 1).join(pd.crosstab(s.index, s))\n"
   ]
  },
  {
   "cell_type": "code",
   "execution_count": 476,
   "metadata": {},
   "outputs": [
    {
     "data": {
      "text/plain": [
       "(18064, 54)"
      ]
     },
     "execution_count": 476,
     "metadata": {},
     "output_type": "execute_result"
    }
   ],
   "source": [
    "f_movies[(f_movies['vote_count'] < 10) & (f_movies['budget'] == 0)].shape\n",
    "#f_movies[(f_movies['vote_count'] < 10)].shape\n",
    "#f_movies[(f_movies['budget'] == 0)].shape"
   ]
  },
  {
   "cell_type": "code",
   "execution_count": 477,
   "metadata": {},
   "outputs": [
    {
     "data": {
      "text/plain": [
       "(42061, 54)"
      ]
     },
     "execution_count": 477,
     "metadata": {},
     "output_type": "execute_result"
    }
   ],
   "source": [
    "x= f_movies.loc[f_movies['production_countries'].str.contains(\"Lao People\", case=False)]\n",
    "\n",
    "f_movies.loc[f_movies.title == \"Adanggaman\", \"production_countries\"] = \"\"\"[{'iso_3166_1': 'CI', 'name': \"Cote D_Ivoire\"}, {'iso_3166_1': 'BF', 'name': 'Burkina Faso'}, {'iso_3166_1': 'FR', 'name': 'France'}, {'iso_3166_1': 'IT', 'name': 'Italy'}, {'iso_3166_1': 'CH', 'name': 'Switzerland'}]\"\"\"\n",
    "f_movies.loc[f_movies.title == \"Black and White in Color\", \"production_countries\"] = \"\"\"[{'iso_3166_1': 'CI', 'name': \"Cote D_Ivoire\"}, {'iso_3166_1': 'FR', 'name': 'France'}, {'iso_3166_1': 'DE', 'name': 'Germany'}, {'iso_3166_1': 'CH', 'name': 'Switzerland'}]\"\"\"\n",
    "f_movies.loc[f_movies.title == \"The Rocket\", \"production_countries\"] = \"\"\"[{'iso_3166_1': 'AU', 'name': 'Australia'}, {'iso_3166_1': 'LA', 'name': \"Lao People_s Democratic Republic\"}, {'iso_3166_1': 'TH', 'name': 'Thailand'}]\"\"\"\n",
    "f_movies.loc[f_movies.title == \"Chanthaly\", \"production_countries\"] = \"\"\"[{'iso_3166_1': 'LA', 'name': \"Lao People_s Democratic Republic\"}]\"\"\"\n",
    "f_movies.loc[f_movies.title == \"River\", \"production_countries\"] = \"\"\"[{'iso_3166_1': 'CA', 'name': 'Canada'}, {'iso_3166_1': 'LA', 'name': \"Lao People_s Democratic Republic\"}]\"\"\"\n",
    "\n",
    "#y =f_movies[(f_movies['title'] == 'River')]\n",
    "f_movies.shape"
   ]
  },
  {
   "cell_type": "code",
   "execution_count": 478,
   "metadata": {},
   "outputs": [],
   "source": [
    "def extractor(f_movies, column, dict_key):\n",
    "    final_list = []\n",
    "    idx = 0\n",
    "    for row in f_movies[column]:\n",
    "        if row == '[]':\n",
    "            final_list.append(['unknown_'+column])\n",
    "        else:\n",
    "            final_values = []    \n",
    "            row = row.strip('[]').replace(\"'\", \"\\\"\")\n",
    "            for i in range(len(row)):\n",
    "                # if row[i] == '\\\"' and row[i] != row[-1]:\n",
    "                #     if (row[i+1] not in [',', ':', '{', '}']) and (row[i-1] not in [',', ':', '{', '}']):\n",
    "                #         row = row[:i] + '' + row[i + 1:]\n",
    "                if row[i] == ',':\n",
    "                    if row[i-1] != '}':\n",
    "                        pass\n",
    "                    else:\n",
    "                        row = row[:i] + '@' + row[i + 1:]\n",
    "            \n",
    "            row = row.replace(\" \", \"\").split('@')\n",
    "          #  print(idx)\n",
    "            idx+=1\n",
    "          #  print(row)\n",
    "            for item in row: #for each dictionary in a row\n",
    "                tmp = json.loads(item) #load that dict\n",
    "                final_values.append(tmp[dict_key]) #extract value\n",
    "            final_list.append(final_values)\n",
    "    f_movies[column] = final_list\n",
    "\n",
    "extractor(f_movies, 'production_countries', 'iso_3166_1')"
   ]
  },
  {
   "cell_type": "code",
   "execution_count": 479,
   "metadata": {},
   "outputs": [],
   "source": [
    "#s = f_movies['production_countries'].explode()\n",
    "#f_movies = f_movies.drop('production_countries', axis = 1).join(pd.crosstab(s.index, s))"
   ]
  },
  {
   "cell_type": "code",
   "execution_count": 480,
   "metadata": {},
   "outputs": [
    {
     "data": {
      "text/plain": [
       "array(['AE', 'AF', 'AL', 'AM', 'AN', 'AO', 'AQ', 'AR', 'AT', 'AU', 'AW',\n",
       "       'AZ', 'BA', 'BB', 'BD', 'BE', 'BF', 'BG', 'BM', 'BO', 'BR', 'BS',\n",
       "       'BT', 'BW', 'BY', 'CA', 'CD', 'CG', 'CH', 'CI', 'CL', 'CM', 'CN',\n",
       "       'CO', 'CR', 'CS', 'CU', 'CY', 'CZ', 'DE', 'DK', 'DO', 'DZ', 'EC',\n",
       "       'EE', 'EG', 'ES', 'ET', 'FI', 'FR', 'GB', 'GE', 'GH', 'GI', 'GN',\n",
       "       'GR', 'GT', 'HK', 'HR', 'HU', 'ID', 'IE', 'IL', 'IN', 'IQ', 'IR',\n",
       "       'IS', 'IT', 'JM', 'JO', 'JP', 'KE', 'KG', 'KH', 'KP', 'KR', 'KW',\n",
       "       'KY', 'KZ', 'LA', 'LB', 'LI', 'LK', 'LR', 'LT', 'LU', 'LV', 'LY',\n",
       "       'MA', 'MC', 'MD', 'ME', 'MG', 'MK', 'ML', 'MM', 'MN', 'MO', 'MQ',\n",
       "       'MR', 'MT', 'MX', 'MY', 'NA', 'NG', 'NI', 'NL', 'NO', 'NP', 'NZ',\n",
       "       'PA', 'PE', 'PF', 'PG', 'PH', 'PK', 'PL', 'PR', 'PS', 'PT', 'PY',\n",
       "       'QA', 'RO', 'RS', 'RU', 'RW', 'SA', 'SE', 'SG', 'SI', 'SK', 'SN',\n",
       "       'SO', 'SU', 'SV', 'SY', 'TD', 'TF', 'TH', 'TJ', 'TN', 'TR', 'TT',\n",
       "       'TW', 'TZ', 'UA', 'UG', 'UM', 'US', 'UY', 'UZ', 'VE', 'VN', 'WS',\n",
       "       'XC', 'XG', 'YU', 'ZA', 'ZW', 'unknown_production_countries'],\n",
       "      dtype='<U28')"
      ]
     },
     "execution_count": 480,
     "metadata": {},
     "output_type": "execute_result"
    }
   ],
   "source": [
    "np.unique([*itertools.chain.from_iterable(f_movies.production_countries)])"
   ]
  },
  {
   "cell_type": "code",
   "execution_count": 481,
   "metadata": {},
   "outputs": [],
   "source": [
    "f_movies.loc[:, 'production_countries'] = f_movies['production_countries'].apply(lambda x: x[0])"
   ]
  },
  {
   "cell_type": "code",
   "execution_count": 482,
   "metadata": {},
   "outputs": [],
   "source": [
    "countries = f_movies['production_countries'].value_counts()\n",
    "country_other = countries[countries <= 100]\n",
    "f_movies.loc[f_movies['production_countries'].isin(country_other.index.to_list()), 'production_countries'] = 'other_country'\n",
    "s = f_movies['production_countries'].explode()\n",
    "f_movies = f_movies.drop('production_countries', axis = 1).join(pd.crosstab(s.index, s))"
   ]
  },
  {
   "cell_type": "code",
   "execution_count": 483,
   "metadata": {},
   "outputs": [],
   "source": [
    "f_movies = f_movies.drop(['production_companies', 'title'], axis=1)"
   ]
  },
  {
   "cell_type": "code",
   "execution_count": 486,
   "metadata": {},
   "outputs": [
    {
     "name": "stdout",
     "output_type": "stream",
     "text": [
      "(29442, 82)\n",
      "(29442, 1)\n",
      "(12619, 82)\n",
      "(12619, 1)\n"
     ]
    },
    {
     "data": {
      "text/plain": [
       "(42061, 83)"
      ]
     },
     "execution_count": 486,
     "metadata": {},
     "output_type": "execute_result"
    }
   ],
   "source": [
    "target = ['vote_average']\n",
    "features = f_movies.columns.tolist()\n",
    "features.remove(target[0])\n",
    "\n",
    "X=f_movies[features].values\n",
    "y=f_movies[target].values\n",
    "\n",
    "from sklearn.preprocessing import StandardScaler\n",
    "PredictorScaler=StandardScaler()\n",
    "TargetVarScaler=StandardScaler()\n",
    "\n",
    "# Storing the fit object for later reference\n",
    "PredictorScalerFit=PredictorScaler.fit(X)\n",
    "TargetVarScalerFit=TargetVarScaler.fit(y)\n",
    "\n",
    "# Generating the standardized values of X and y\n",
    "X=PredictorScalerFit.transform(X)\n",
    "y=TargetVarScalerFit.transform(y)\n",
    "\n",
    "# Split the data into training and testing set\n",
    "from sklearn.model_selection import train_test_split\n",
    "X_train, X_test, y_train, y_test = train_test_split(X, y, test_size=0.3, random_state=123)\n",
    "\n",
    "# Quick sanity check with the shapes of Training and testing datasets\n",
    "print(X_train.shape)\n",
    "print(y_train.shape)\n",
    "print(X_test.shape)\n",
    "print(y_test.shape)\n"
   ]
  },
  {
   "cell_type": "code",
   "execution_count": 540,
   "metadata": {},
   "outputs": [
    {
     "data": {
      "text/plain": [
       "2002"
      ]
     },
     "execution_count": 540,
     "metadata": {},
     "output_type": "execute_result"
    }
   ],
   "source": [
    "f_movies_filtered = f_movies[(f_movies['vote_count'] > 1)\n",
    "& (f_movies['budget'] > 10) \n",
    "& (f_movies['popularity'] > 10)\n",
    "& (f_movies['runtime'] > 10)\n",
    "& (f_movies['revenue'] > 10)]\n",
    "len(f_movies_filtered)\n",
    "#plt.scatter(f_movies_filtered.revenue, f_movies_filtered.vote_average)"
   ]
  }
 ],
 "metadata": {
  "interpreter": {
   "hash": "12d4f619691cb3c8cdb4fc1bac3542d3bd06428ac0d8596b7ce847b27c5c0d5e"
  },
  "kernelspec": {
   "display_name": "Python 3.9.4 64-bit",
   "language": "python",
   "name": "python3"
  },
  "language_info": {
   "codemirror_mode": {
    "name": "ipython",
    "version": 3
   },
   "file_extension": ".py",
   "mimetype": "text/x-python",
   "name": "python",
   "nbconvert_exporter": "python",
   "pygments_lexer": "ipython3",
   "version": "3.9.4"
  },
  "orig_nbformat": 4
 },
 "nbformat": 4,
 "nbformat_minor": 2
}
