{
 "cells": [
  {
   "cell_type": "code",
   "execution_count": null,
   "metadata": {},
   "outputs": [],
   "source": [
    "import pandas as pd\n",
    "import matplotlib.pyplot as plt\n",
    "import numpy as np\n",
    "import itertools\n",
    "\n",
    "include_columns = [0, 1, 2, 3, 7, 10, 12, 13, 14, 15, 16, 18, 20, 21, 22, 23] \n",
    "movies = pd.read_csv('Datafiles\\\\movies_metadata.csv', sep = ',', low_memory=False, \\\n",
    "        usecols = include_columns)\n",
    "movies.info()"
   ]
  },
  {
   "cell_type": "markdown",
   "metadata": {},
   "source": [
    "1. Data filtering"
   ]
  },
  {
   "cell_type": "code",
   "execution_count": null,
   "metadata": {},
   "outputs": [],
   "source": [
    "f_movies = movies[movies['adult'] == 'False']\n",
    "f_movies = f_movies[f_movies['status'] == 'Released']\n",
    "f_movies = f_movies[f_movies['video'] == False]"
   ]
  },
  {
   "cell_type": "code",
   "execution_count": null,
   "metadata": {},
   "outputs": [],
   "source": [
    "f_movies = f_movies.drop(['adult', 'status', 'video'], axis=1)"
   ]
  },
  {
   "cell_type": "markdown",
   "metadata": {},
   "source": [
    "2. Data wrangling\n",
    "BELONGS TO COLLECTION"
   ]
  },
  {
   "cell_type": "code",
   "execution_count": null,
   "metadata": {},
   "outputs": [],
   "source": [
    "f_movies.loc[f_movies['belongs_to_collection'].notna(), 'belongs_to_collection'] = 1\n",
    "f_movies.loc[f_movies['belongs_to_collection'].isna(), 'belongs_to_collection'] = 0\n"
   ]
  },
  {
   "cell_type": "code",
   "execution_count": null,
   "metadata": {},
   "outputs": [],
   "source": [
    "f_movies['belongs_to_collection'] = f_movies['belongs_to_collection'].astype(int)\n",
    "f_movies['belongs_to_collection'].value_counts()\n",
    "#f_movies['belongs_to_collection'].dtype\n"
   ]
  },
  {
   "cell_type": "code",
   "execution_count": null,
   "metadata": {},
   "outputs": [],
   "source": [
    "f_movies['budget'] = f_movies['budget'].astype(int)\n",
    "f_movies['budget'].value_counts()\n",
    "#plt.hist(f_movies['budget'])\n",
    "budget_nonzero = f_movies[f_movies['budget'] != 0]['budget']\n",
    "plt.hist(budget_nonzero)\n",
    "\n"
   ]
  },
  {
   "cell_type": "code",
   "execution_count": null,
   "metadata": {},
   "outputs": [],
   "source": [
    "plt.boxplot(budget_nonzero)\n",
    "#budget_nonzero"
   ]
  },
  {
   "cell_type": "code",
   "execution_count": null,
   "metadata": {},
   "outputs": [],
   "source": [
    "f_movies['original_language'] = f_movies['original_language'].astype(str)\n",
    "lang = f_movies['original_language'].value_counts()\n",
    "lang_other = lang[lang <= 100]\n",
    "f_movies.loc[f_movies['original_language'].isin(lang_other.index.to_list()), 'original_language'] = 'other'\n",
    "f_movies['original_language'].value_counts()"
   ]
  },
  {
   "cell_type": "code",
   "execution_count": null,
   "metadata": {},
   "outputs": [],
   "source": [
    "f_movies['popularity'] = f_movies['popularity'].astype(float)\n",
    "#plt.hist(f_movies['popularity'])\n",
    "#f_movies['popularity'].describe()\n",
    "#f_movies['popularity'].sort_values(ascending=False).head(20)\n",
    "f_movies[f_movies['popularity'] > 200].sort_values(by='popularity', ascending = False)\n",
    "pop = f_movies['popularity']\n",
    "\n",
    "\n",
    "def normalizer(vect, a, b):\n",
    "    min_vect = min(vect)\n",
    "    max_vect = max(vect)\n",
    "    result = ((b - a)*(vect - min_vect)/(max_vect-min_vect)) + a\n",
    "    return result\n",
    "\n",
    "pop_stand = normalizer(pop, 0, 100)\n",
    "pop_stand.describe()\n",
    "#plt.hist(pop_stand)"
   ]
  },
  {
   "cell_type": "markdown",
   "metadata": {},
   "source": [
    "RELEASE DATE"
   ]
  },
  {
   "cell_type": "code",
   "execution_count": null,
   "metadata": {},
   "outputs": [],
   "source": [
    "f_movies['release_date'] = f_movies['release_date'].astype(str)\n",
    "f_movies.loc[f_movies['release_date'] == 'nan', 'release_date'] = '0000'\n",
    "f_movies['release_date'] = f_movies['release_date'].str[:4]\n",
    "\n",
    "f_movies['release_date'] = pd.to_numeric(f_movies['release_date'])\n",
    "plt.hist(f_movies[f_movies['release_date'] != 0]['release_date'])\n"
   ]
  },
  {
   "cell_type": "markdown",
   "metadata": {},
   "source": [
    "REVENUE"
   ]
  },
  {
   "cell_type": "code",
   "execution_count": null,
   "metadata": {},
   "outputs": [],
   "source": [
    "f_movies['revenue'].value_counts()\n",
    "plt.hist(f_movies[f_movies['revenue'] != 0]['revenue'])"
   ]
  },
  {
   "cell_type": "code",
   "execution_count": null,
   "metadata": {},
   "outputs": [],
   "source": [
    "plt.boxplot(f_movies[f_movies['revenue'] != 0]['revenue'])"
   ]
  },
  {
   "cell_type": "markdown",
   "metadata": {},
   "source": [
    "RUNTIME"
   ]
  },
  {
   "cell_type": "code",
   "execution_count": null,
   "metadata": {},
   "outputs": [],
   "source": [
    "f_movies['runtime'].value_counts()\n",
    "f_movies['runtime'].describe()\n",
    "\n",
    "#plt.hist(f_movies[f_movies['runtime'] != 0]['runtime'])\n",
    "f_movies['runtime'].sort_values(ascending=False).head(200)\n"
   ]
  },
  {
   "cell_type": "code",
   "execution_count": null,
   "metadata": {},
   "outputs": [],
   "source": [
    "f_movies['vote_count'].value_counts()\n",
    "f_movies['vote_average'].value_counts()\n"
   ]
  },
  {
   "cell_type": "code",
   "execution_count": null,
   "metadata": {},
   "outputs": [],
   "source": [
    "import json\n",
    "\"\"\"\n",
    "converts from string to dictionary and extracts values from particulary key\n",
    "\"\"\"\n",
    "final_list = []\n",
    "idx = 0\n",
    "for row in f_movies['genres']:\n",
    "    if row == '[]':\n",
    "        final_list.append(['Unknown'])\n",
    "    else:\n",
    "        final_values = []\n",
    "        row = row.strip('[]').replace(\"'\", \"\\\"\")\n",
    "        for i in range(len(row)):\n",
    "            if row[i] == ',':\n",
    "                if row[i-1] != '}':\n",
    "                    pass\n",
    "                else:\n",
    "                    row = row[:i] + '@' + row[i + 1:]\n",
    "        row = row.replace(\" \", \"\").split('@')\n",
    "        # print(idx)\n",
    "        # print(row)\n",
    "        idx += 1\n",
    "        for item in row: #for each dictionary in a row\n",
    "            tmp = json.loads(item) #load that dict\n",
    "            final_values.append(tmp['name']) #extract value\n",
    "        final_list.append(final_values)\n",
    "f_movies['genres'] = final_list"
   ]
  },
  {
   "cell_type": "code",
   "execution_count": null,
   "metadata": {},
   "outputs": [],
   "source": [
    "import itertools\n",
    "np.unique([*itertools.chain.from_iterable(f_movies.genres)])"
   ]
  },
  {
   "cell_type": "code",
   "execution_count": null,
   "metadata": {},
   "outputs": [],
   "source": [
    "s = f_movies['genres'].explode()\n",
    "f_movies = f_movies.drop('genres', axis = 1).join(pd.crosstab(s.index, s))"
   ]
  },
  {
   "cell_type": "code",
   "execution_count": null,
   "metadata": {},
   "outputs": [],
   "source": [
    "f_movies['release_date'].value_counts()\n",
    "#f_movies[f_movies['release_date'] == 0]"
   ]
  },
  {
   "cell_type": "code",
   "execution_count": null,
   "metadata": {},
   "outputs": [],
   "source": [
    "f_movies = f_movies[f_movies['vote_count'] != 0]\n",
    "f_movies = f_movies[f_movies['release_date'] != 0]"
   ]
  }
 ],
 "metadata": {
  "interpreter": {
   "hash": "6e5c665652c1b0e5975dd49eb5b7cc3cfbafc5dfa6ad78b74ff334e9ae6c0f18"
  },
  "kernelspec": {
   "display_name": "Python 3.9.4 64-bit",
   "language": "python",
   "name": "python3"
  },
  "language_info": {
   "codemirror_mode": {
    "name": "ipython",
    "version": 3
   },
   "file_extension": ".py",
   "mimetype": "text/x-python",
   "name": "python",
   "nbconvert_exporter": "python",
   "pygments_lexer": "ipython3",
   "version": "3.9.2"
  },
  "orig_nbformat": 4
 },
 "nbformat": 4,
 "nbformat_minor": 2
}
